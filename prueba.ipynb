{
 "cells": [
  {
   "cell_type": "code",
   "execution_count": 2,
   "metadata": {},
   "outputs": [],
   "source": [
    "import chatbot as cb\n",
    "import funtions as ft\n",
    "\n",
    "bot = cb.chatBot()\n",
    "\n",
    "fun = ft.functions()\n",
    "\n",
    "functions_name = [fun.empresas_competidoras]\n",
    "\n",
    "bot.inicializar(functions_name)"
   ]
  },
  {
   "cell_type": "code",
   "execution_count": 9,
   "metadata": {},
   "outputs": [
    {
     "name": "stdout",
     "output_type": "stream",
     "text": [
      "\n",
      " Perfecto, dado que su empresa se dedica a la fabricación de autobuses, dos grandes competidores a nivel global serían:\n",
      "\n",
      "**1. Daimler Buses (Mercedes-Benz Buses):**  Considerado uno de los mayores fabricantes de autobuses del mundo, con una amplia gama de productos que incluye autobuses urbanos, interurbanos y autocares. Su marca Mercedes-Benz es reconocida por su calidad, tecnología e innovación.\n",
      "\n",
      "**2. Volvo Buses:** Otro actor principal en la industria, con una sólida presencia en el mercado de autobuses urbanos, interurbanos y turísticos. Volvo se destaca por su enfoque en la seguridad, la eficiencia de combustible y las soluciones de transporte sostenible.\n",
      "\n",
      "Estas dos empresas representan una fuerte competencia para cualquier fabricante de autobuses, debido a su tamaño, alcance global,  reconocimiento de marca y capacidad de innovación. \n",
      "\n",
      "Espero que esta información le sea útil. ¿Le gustaría que profundicemos en algún aspecto particular de estas empresas, como sus estrategias de mercado, modelos más populares o avances tecnológicos?\n",
      " \n",
      "\n"
     ]
    }
   ],
   "source": [
    "print(f\"\\n {bot.get_response(\"autobuses\")} \\n\")\n",
    "print(f\"\\n {bot.get_history()} \\n\")"
   ]
  },
  {
   "cell_type": "code",
   "execution_count": null,
   "metadata": {},
   "outputs": [],
   "source": []
  }
 ],
 "metadata": {
  "kernelspec": {
   "display_name": "venv",
   "language": "python",
   "name": "python3"
  },
  "language_info": {
   "codemirror_mode": {
    "name": "ipython",
    "version": 3
   },
   "file_extension": ".py",
   "mimetype": "text/x-python",
   "name": "python",
   "nbconvert_exporter": "python",
   "pygments_lexer": "ipython3",
   "version": "3.12.0"
  }
 },
 "nbformat": 4,
 "nbformat_minor": 2
}
