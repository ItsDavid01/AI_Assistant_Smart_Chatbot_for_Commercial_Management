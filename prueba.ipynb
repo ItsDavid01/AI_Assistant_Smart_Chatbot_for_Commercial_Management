{
 "cells": [
  {
   "cell_type": "code",
   "execution_count": 2,
   "metadata": {},
   "outputs": [],
   "source": [
    "import chatbot as cb\n",
    "import funtions as ft\n",
    "\n",
    "bot = cb.chatBot()\n",
    "\n",
    "fun = ft.functions()\n",
    "\n",
    "functions_name = [fun.empresas_competidoras]\n",
    "\n",
    "bot.inicializar(functions_name)"
   ]
  },
  {
   "cell_type": "code",
   "execution_count": 10,
   "metadata": {},
   "outputs": [
    {
     "name": "stdout",
     "output_type": "stream",
     "text": [
      "\n",
      " Ya que me confirma que su enfoque principal son los autobuses, le recordaré que Daimler Buses (Mercedes-Benz Buses) y Volvo Buses son dos grandes competidores a nivel global para su empresa. \n",
      "\n",
      "¿Le interesaría analizar algún aspecto específico de la competencia con estas empresas, como por ejemplo:\n",
      "\n",
      "* **Comparativa de modelos:** Podríamos analizar las características y ventajas de sus autobuses frente a modelos similares de Daimler o Volvo.\n",
      "* **Estrategias de mercado:** Explorar cómo estas empresas se posicionan en diferentes mercados y qué estrategias utilizan para llegar a sus clientes.\n",
      "* **Innovación tecnológica:** Investigar las últimas tecnologías que están incorporando Daimler y Volvo en sus autobuses, como sistemas de propulsión alternativos, conducción autónoma o soluciones de conectividad.\n",
      "\n",
      "Estoy a su disposición para profundizar en la información que le resulte más relevante para su análisis.  \n",
      " \n",
      "\n",
      "\n",
      " [parts {\n",
      "  text: \"Hola, me podrias decir cuales son las empresas competidoras actualmente pero de aviacion?\"\n",
      "}\n",
      "role: \"user\"\n",
      ", parts {\n",
      "  text: \"Buenos días, la información que solicita no se encuentra disponible en mi base de datos. Mi enfoque principal es el sector automovilístico. \\n\\n¿Le puedo ayudar con alguna otra consulta relacionada con ventas, marketing o el mercado automotriz? \\n\"\n",
      "}\n",
      "role: \"model\"\n",
      ", parts {\n",
      "  text: \"Entonces que puedes hacer?\"\n",
      "}\n",
      "role: \"user\"\n",
      ", parts {\n",
      "  text: \"Puedo proporcionarle información sobre una amplia gama de temas relacionados con el sector automotriz, incluyendo:\\n\\n* **Tendencias del mercado:** puedo compartir las últimas tendencias en ventas de automóviles, preferencias de los consumidores y tecnologías emergentes.\\n* **Análisis de la competencia:** puedo ofrecer información sobre los competidores en el mercado automotriz, incluyendo sus fortalezas, debilidades y estrategias.\\n* **Estrategias de ventas y marketing:** puedo ayudarle a desarrollar estrategias efectivas de ventas y marketing para el sector automotriz, incluyendo la identificación de clientes potenciales y la creación de campañas de marketing exitosas.\\n* **Información sobre productos y tecnologías:** puedo proporcionarle información detallada sobre los últimos modelos de automóviles, características y tecnologías.\\n\\n¿Hay algo específico en lo que le gustaría obtener ayuda hoy? \\n\"\n",
      "}\n",
      "role: \"model\"\n",
      ", parts {\n",
      "  text: \"Puedes ampliarme mas lo que significa cada una?\"\n",
      "}\n",
      "role: \"user\"\n",
      ", parts {\n",
      "  text: \"Con gusto puedo brindarle más detalles sobre cada uno de los temas que mencioné:\\n\\n**1. Tendencias del mercado:**\\n\\n* **Análisis de ventas:** puedo proporcionarle datos sobre las ventas de automóviles por segmento, marca y modelo. Esto le permitirá identificar cuáles son los autos más populares y cómo están cambiando las preferencias de los consumidores. \\n* **Estudio de mercado:** puedo ayudarle a comprender las necesidades y expectativas de los clientes en el mercado actual. Esto incluye información sobre sus preferencias en cuanto a diseño, tecnología, seguridad, precio y financiamiento. \\n* **Innovaciones tecnológicas:** me mantengo actualizado sobre las últimas tecnologías que están impactando al sector automotriz, como los vehículos eléctricos, la conducción autónoma y los sistemas de asistencia al conductor. Le puedo brindar información sobre las últimas tendencias en este ámbito y cómo se espera que impacten al mercado en el futuro.\\n\\n**2. Análisis de la competencia:** \\n\\n* **Benchmarking:** puedo analizar a los competidores clave en el mercado, identificando sus fortalezas, debilidades, estrategias de precios, estrategias de marketing y cuota de mercado. Esta información le permitirá entender mejor el panorama competitivo y desarrollar estrategias más efectivas para destacarse. \\n* **Comparación de productos:** puedo comparar las características, ventajas y desventajas de diferentes modelos de automóviles, permitiéndole ofrecer a sus clientes una visión completa y objetiva de las opciones disponibles en el mercado.\\n* **Estrategias de marketing:** puedo analizar las estrategias de marketing que están utilizando sus competidores para llegar a su público objetivo. Esto le ayudará a identificar oportunidades para mejorar sus propias campañas y destacarse en un mercado cada vez más competitivo.\\n\\n**3. Estrategias de ventas y marketing:**\\n\\n* **Identificación de clientes potenciales:** puedo ayudarle a identificar y segmentar a su público objetivo para que pueda dirigir sus esfuerzos de marketing de manera más efectiva. Esto puede incluir la identificación de datos demográficos clave, intereses y comportamientos de compra.\\n* **Desarrollo de campañas de marketing:** puedo ayudarle a crear campañas de marketing personalizadas que resuenen con su público objetivo. Esto incluye la selección de los canales de marketing adecuados, la creación de mensajes persuasivos y el seguimiento del retorno de la inversión (ROI).\\n* **Estrategias de venta:** puedo ayudarle a optimizar sus estrategias de venta para aumentar las conversiones y la satisfacción del cliente. Esto incluye técnicas de venta consultiva, manejo de objeciones y cierre de ventas.\\n\\n**4. Información sobre productos y tecnologías:**\\n\\n* **Especificaciones técnicas:** puedo proporcionarle información detallada sobre las especificaciones técnicas de diferentes modelos de automóviles, como la potencia del motor, el consumo de combustible, las características de seguridad y las opciones de entretenimiento.\\n* **Beneficios y características:** puedo ayudarle a comprender los beneficios y características clave de las últimas tecnologías automotrices, como la asistencia al conductor, la conectividad y los sistemas de infoentretenimiento.\\n* **Novedades del mercado:** me mantengo actualizado sobre los lanzamientos de nuevos modelos, las actualizaciones de productos y las últimas innovaciones en la industria automotriz. \\n\\nEspero que esta información adicional le sea útil. ¿Hay algún tema en particular que le gustaría explorar con mayor profundidad? \\n\"\n",
      "}\n",
      "role: \"model\"\n",
      ", parts {\n",
      "  text: \"puedes decirme 2 grandes empresas competidoras que pueen competir con la nuestra?\"\n",
      "}\n",
      "role: \"user\"\n",
      ", parts {\n",
      "  text: \"Por supuesto. Para determinar dos grandes competidores de su empresa, necesito entender mejor a qué se dedica exactamente su empresa dentro del sector automotriz. \\n\\n¿Podría indicarme, por favor, cuál es el enfoque principal de su empresa? Por ejemplo:\\n\\n* **¿Se dedican a la fabricación de vehículos?** En ese caso, ¿qué tipo de vehículos producen (turismos, vehículos comerciales, etc.)?\\n* **¿Son una empresa de distribución o venta de automóviles?** ¿Se enfocan en una marca específica o en varias?\\n* **¿Ofrecen servicios relacionados con el sector automotriz?** Por ejemplo, servicios de mantenimiento, reparación, financiamiento, etc.\\n\\nUna vez que me brinde más contexto sobre su empresa, podré identificar a dos competidores importantes y relevantes para su análisis. \\n\"\n",
      "}\n",
      "role: \"model\"\n",
      ", parts {\n",
      "  text: \"Fabricacion\"\n",
      "}\n",
      "role: \"user\"\n",
      ", parts {\n",
      "  text: \"Entendido. Para poder indicarle dos grandes empresas que compiten con la suya en el área de fabricación de automóviles, necesito saber qué tipo de vehículos fabrican. \\n\\n¿Podría especificarme si se trata de alguna de estas categorías?:\\n\\n* **Turismos (coches):**  Aquí los competidores serían empresas como Toyota, Volkswagen, Hyundai, etc.\\n* **Vehículos comerciales ligeros (furgonetas, pickups):**  Competidores como Ford, Renault, Mercedes-Benz, etc.\\n* **Camiones de gran tonelaje:**  Empresas como Volvo Trucks, Daimler Trucks, Paccar, etc. \\n* **Autobuses:**  Competidores como Mercedes-Benz, Volvo Buses, Scania, etc. \\n* **Otro tipo de vehículo:**  Por favor, especifique.\\n\\nConocer el tipo de vehículo que fabrica su empresa me permitirá ofrecerle una respuesta más precisa y útil. \\n\"\n",
      "}\n",
      "role: \"model\"\n",
      ", parts {\n",
      "  text: \"autobuses\"\n",
      "}\n",
      "role: \"user\"\n",
      ", parts {\n",
      "  text: \"Perfecto, dado que su empresa se dedica a la fabricación de autobuses, dos grandes competidores a nivel global serían:\\n\\n**1. Daimler Buses (Mercedes-Benz Buses):**  Considerado uno de los mayores fabricantes de autobuses del mundo, con una amplia gama de productos que incluye autobuses urbanos, interurbanos y autocares. Su marca Mercedes-Benz es reconocida por su calidad, tecnología e innovación.\\n\\n**2. Volvo Buses:** Otro actor principal en la industria, con una sólida presencia en el mercado de autobuses urbanos, interurbanos y turísticos. Volvo se destaca por su enfoque en la seguridad, la eficiencia de combustible y las soluciones de transporte sostenible.\\n\\nEstas dos empresas representan una fuerte competencia para cualquier fabricante de autobuses, debido a su tamaño, alcance global,  reconocimiento de marca y capacidad de innovación. \\n\\nEspero que esta información le sea útil. ¿Le gustaría que profundicemos en algún aspecto particular de estas empresas, como sus estrategias de mercado, modelos más populares o avances tecnológicos?\\n\"\n",
      "}\n",
      "role: \"model\"\n",
      ", parts {\n",
      "  text: \"autobuses\"\n",
      "}\n",
      "role: \"user\"\n",
      ", parts {\n",
      "  text: \"Ya que me confirma que su enfoque principal son los autobuses, le recordaré que Daimler Buses (Mercedes-Benz Buses) y Volvo Buses son dos grandes competidores a nivel global para su empresa. \\n\\n¿Le interesaría analizar algún aspecto específico de la competencia con estas empresas, como por ejemplo:\\n\\n* **Comparativa de modelos:** Podríamos analizar las características y ventajas de sus autobuses frente a modelos similares de Daimler o Volvo.\\n* **Estrategias de mercado:** Explorar cómo estas empresas se posicionan en diferentes mercados y qué estrategias utilizan para llegar a sus clientes.\\n* **Innovación tecnológica:** Investigar las últimas tecnologías que están incorporando Daimler y Volvo en sus autobuses, como sistemas de propulsión alternativos, conducción autónoma o soluciones de conectividad.\\n\\nEstoy a su disposición para profundizar en la información que le resulte más relevante para su análisis.  \\n\"\n",
      "}\n",
      "role: \"model\"\n",
      "] \n",
      "\n"
     ]
    }
   ],
   "source": [
    "print(f\"\\n {bot.get_response(\"autobuses\")} \\n\")\n",
    "print(f\"\\n {bot.get_history()} \\n\")"
   ]
  },
  {
   "cell_type": "code",
   "execution_count": null,
   "metadata": {},
   "outputs": [],
   "source": []
  }
 ],
 "metadata": {
  "kernelspec": {
   "display_name": "venv",
   "language": "python",
   "name": "python3"
  },
  "language_info": {
   "codemirror_mode": {
    "name": "ipython",
    "version": 3
   },
   "file_extension": ".py",
   "mimetype": "text/x-python",
   "name": "python",
   "nbconvert_exporter": "python",
   "pygments_lexer": "ipython3",
   "version": "3.12.0"
  }
 },
 "nbformat": 4,
 "nbformat_minor": 2
}
